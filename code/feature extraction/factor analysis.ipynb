{
 "cells": [
  {
   "cell_type": "code",
   "execution_count": 1,
   "metadata": {},
   "outputs": [],
   "source": [
    "import pandas as pd\n",
    "import numpy as np\n",
    "from pandas import DataFrame,Series\n",
    "from factor_analyzer import FactorAnalyzer\n",
    "from sklearn import preprocessing"
   ]
  },
  {
   "cell_type": "code",
   "execution_count": 2,
   "metadata": {},
   "outputs": [],
   "source": [
    "datafile = u'D:\\\\机器学习\\\\论文\\\\数据\\\\tzz1.xlsx'\n",
    "data = pd.read_excel(datafile)\n",
    "scaler =preprocessing. MinMaxScaler( )\n",
    "scaler.fit(data)\n",
    "scaler.data_max_\n",
    "#标准化到0与1之间\n",
    "data_normorlize=scaler.transform(data)"
   ]
  },
  {
   "cell_type": "code",
   "execution_count": 3,
   "metadata": {},
   "outputs": [
    {
     "data": {
      "text/plain": [
       "(414.78900974594353, 8.880876000337959e-48)"
      ]
     },
     "execution_count": 3,
     "metadata": {},
     "output_type": "execute_result"
    }
   ],
   "source": [
    "#充分性测试Bartlett's Test，Kaiser-Meyer-Olkin Test\n",
    "from factor_analyzer.factor_analyzer import calculate_bartlett_sphericity\n",
    "chi_square_value,p_value=calculate_bartlett_sphericity(data_normorlize)\n",
    "chi_square_value, p_value\n",
    "#p-value=0, 表明观察到的相关矩阵不是一个单位阵，拒绝各变量独立的假设，即变量间有较强相关"
   ]
  },
  {
   "cell_type": "code",
   "execution_count": 4,
   "metadata": {
    "scrolled": true
   },
   "outputs": [
    {
     "name": "stdout",
     "output_type": "stream",
     "text": [
      "0.6606868684147108\n"
     ]
    },
    {
     "name": "stderr",
     "output_type": "stream",
     "text": [
      "D:\\anaconda\\lib\\site-packages\\factor_analyzer\\utils.py:248: UserWarning: The inverse of the variance-covariance matrix was calculated using the Moore-Penrose generalized matrix inversion, due to its determinant being at or very close to zero.\n",
      "  warnings.warn('The inverse of the variance-covariance matrix '\n"
     ]
    }
   ],
   "source": [
    "#KMO检验，检查变量间的偏相关性，KMO值越接近于1，变量间的偏相关性就越强，因子分析效果就好。一般以0.6比较\n",
    "from factor_analyzer.factor_analyzer import calculate_kmo\n",
    "kmo_all,kmo_model=calculate_kmo(data_normorlize)\n",
    "print(kmo_model)"
   ]
  },
  {
   "cell_type": "code",
   "execution_count": 5,
   "metadata": {},
   "outputs": [
    {
     "data": {
      "text/plain": [
       "<seaborn.axisgrid.PairGrid at 0x1d07ceb2dd8>"
      ]
     },
     "execution_count": 5,
     "metadata": {},
     "output_type": "execute_result"
    }
   ],
   "source": [
    "import seaborn as sns\n",
    "sns.pairplot(data)"
   ]
  },
  {
   "cell_type": "code",
   "execution_count": 6,
   "metadata": {},
   "outputs": [
    {
     "data": {
      "text/plain": [
       "<matplotlib.axes._subplots.AxesSubplot at 0x1d00684a470>"
      ]
     },
     "execution_count": 6,
     "metadata": {},
     "output_type": "execute_result"
    },
    {
     "data": {
      "image/png": "[encoded data removed]",
      "text/plain": [
       "<Figure size 432x288 with 2 Axes>"
      ]
     },
     "metadata": {
      "needs_background": "light"
     },
     "output_type": "display_data"
    }
   ],
   "source": [
    "sns.heatmap(data,vmin=0, vmax=1)"
   ]
  },
  {
   "cell_type": "code",
   "execution_count": 7,
   "metadata": {},
   "outputs": [
    {
     "name": "stdout",
     "output_type": "stream",
     "text": [
      "\n",
      "解释的总方差（即贡献率）:\n",
      " (array([6.28749164, 2.18681016, 1.25905375, 0.67725626, 0.35371927,\n",
      "       0.22095882, 0.07053526]), array([0.52395764, 0.18223418, 0.10492115, 0.05643802, 0.02947661,\n",
      "       0.01841324, 0.00587794]), array([0.52395764, 0.70619182, 0.81111296, 0.86755098, 0.89702759,\n",
      "       0.91544083, 0.92131876]))\n"
     ]
    }
   ],
   "source": [
    "import pandas as pd\n",
    "import numpy as np\n",
    "from sklearn import preprocessing\n",
    "from factor_analyzer import FactorAnalyzer\n",
    "\n",
    "datafile = u'D:\\\\机器学习\\\\论文\\\\数据\\\\tzz1.xlsx'\n",
    "data = pd.read_excel(datafile)\n",
    "\n",
    "# 数据均值规范化\n",
    "data1 = data.iloc[:,1:]  \n",
    "data2 = preprocessing.scale(data1)\n",
    "# 相关系数矩阵、特征值\n",
    "c = np.corrcoef(data2)\n",
    "np.linalg.eigvals(c)\n",
    "\n",
    "# 确定公共因子个数，以解释度达到80%为标准\n",
    "fa = FactorAnalyzer(7,rotation=None)  #固定公共因子个数为11个\n",
    "fa.fit(data2) \n",
    "var = fa.get_factor_variance()#给出贡献率\n",
    "print(\"\\n解释的总方差（即贡献率）:\\n\", var)\n"
   ]
  },
  {
   "cell_type": "code",
   "execution_count": 8,
   "metadata": {},
   "outputs": [
    {
     "data": {
      "text/plain": [
       "(array([6.28749164, 2.18681016, 1.25905375, 0.67725626, 0.35371927,\n",
       "        0.22095882, 0.07053526]),\n",
       " array([0.52395764, 0.18223418, 0.10492115, 0.05643802, 0.02947661,\n",
       "        0.01841324, 0.00587794]),\n",
       " array([0.52395764, 0.70619182, 0.81111296, 0.86755098, 0.89702759,\n",
       "        0.91544083, 0.92131876]))"
      ]
     },
     "execution_count": 8,
     "metadata": {},
     "output_type": "execute_result"
    }
   ],
   "source": [
    "var "
   ]
  },
  {
   "cell_type": "code",
   "execution_count": 9,
   "metadata": {},
   "outputs": [],
   "source": [
    "# 初始因子载荷矩阵\n",
    "fa.loadings_  #成分矩阵\n",
    "\n",
    "# 因子旋转、旋转后因子载荷矩阵\n",
    "fa1 = FactorAnalyzer(7,rotation='varimax')  \n",
    "fa1.fit(data2) \n",
    "fa1.loadings_\n",
    "\n",
    "# 因子得分矩阵\n",
    "a = fa1.transform(data2)"
   ]
  },
  {
   "cell_type": "code",
   "execution_count": 10,
   "metadata": {},
   "outputs": [
    {
     "data": {
      "text/plain": [
       "array([[-1.63,  0.11,  1.18,  1.03,  0.15, -0.45, -1.4 ],\n",
       "       [-0.63,  0.45, -2.98, -2.21, -0.06, -0.14, -0.13],\n",
       "       [-0.12, -1.58, -0.33,  0.82, -1.16, -1.43, -0.25],\n",
       "       [ 0.27, -1.53, -0.37,  0.78,  1.06, -0.49,  1.84],\n",
       "       [ 0.87,  1.21,  0.25,  0.11,  0.29,  0.38,  0.45],\n",
       "       [-2.19, -0.22,  0.14,  0.58,  1.13, -1.29, -1.45],\n",
       "       [ 0.77,  0.19, -0.03,  0.25, -1.01, -0.99,  0.42],\n",
       "       [-0.28,  0.79,  0.75, -0.5 ,  0.73,  0.9 , -0.28],\n",
       "       [ 0.47, -1.71,  1.5 , -2.21, -0.28,  0.81,  1.02],\n",
       "       [ 0.  ,  1.08,  0.67, -0.38, -0.99,  2.34,  1.05],\n",
       "       [ 0.02,  0.61,  1.22, -1.49,  0.5 , -1.63,  0.74],\n",
       "       [-0.16, -0.46, -1.12, -0.41,  0.59,  0.29, -0.93],\n",
       "       [-0.64,  0.35,  0.39,  0.46, -0.67, -0.41,  2.22],\n",
       "       [ 0.46, -0.44, -0.04, -0.28, -1.11, -0.06, -1.56],\n",
       "       [ 1.42, -2.15, -0.01,  0.75,  0.76,  1.08, -1.4 ],\n",
       "       [-0.75,  0.15, -0.98,  0.53, -2.12,  0.92,  0.86],\n",
       "       [-0.55,  0.33, -0.74,  0.91,  0.57,  1.31,  1.31],\n",
       "       [-0.77,  0.53,  0.99,  0.22,  0.45,  0.28, -1.58],\n",
       "       [ 2.11,  1.43, -0.1 ,  0.74, -0.06, -1.35, -1.11],\n",
       "       [ 1.34,  0.87, -0.4 ,  0.32,  1.23, -0.07,  0.16]])"
      ]
     },
     "execution_count": 10,
     "metadata": {},
     "output_type": "execute_result"
    }
   ],
   "source": [
    "a=np.round(a,2)\n",
    "a"
   ]
  },
  {
   "cell_type": "code",
   "execution_count": 11,
   "metadata": {},
   "outputs": [
    {
     "data": {
      "text/plain": [
       "array([[-1.63, -0.63, -0.12,  0.27,  0.87, -2.19,  0.77, -0.28,  0.47,\n",
       "         0.  ,  0.02, -0.16, -0.64,  0.46,  1.42, -0.75, -0.55, -0.77,\n",
       "         2.11,  1.34],\n",
       "       [ 0.11,  0.45, -1.58, -1.53,  1.21, -0.22,  0.19,  0.79, -1.71,\n",
       "         1.08,  0.61, -0.46,  0.35, -0.44, -2.15,  0.15,  0.33,  0.53,\n",
       "         1.43,  0.87],\n",
       "       [ 1.18, -2.98, -0.33, -0.37,  0.25,  0.14, -0.03,  0.75,  1.5 ,\n",
       "         0.67,  1.22, -1.12,  0.39, -0.04, -0.01, -0.98, -0.74,  0.99,\n",
       "        -0.1 , -0.4 ],\n",
       "       [ 1.03, -2.21,  0.82,  0.78,  0.11,  0.58,  0.25, -0.5 , -2.21,\n",
       "        -0.38, -1.49, -0.41,  0.46, -0.28,  0.75,  0.53,  0.91,  0.22,\n",
       "         0.74,  0.32],\n",
       "       [ 0.15, -0.06, -1.16,  1.06,  0.29,  1.13, -1.01,  0.73, -0.28,\n",
       "        -0.99,  0.5 ,  0.59, -0.67, -1.11,  0.76, -2.12,  0.57,  0.45,\n",
       "        -0.06,  1.23],\n",
       "       [-0.45, -0.14, -1.43, -0.49,  0.38, -1.29, -0.99,  0.9 ,  0.81,\n",
       "         2.34, -1.63,  0.29, -0.41, -0.06,  1.08,  0.92,  1.31,  0.28,\n",
       "        -1.35, -0.07],\n",
       "       [-1.4 , -0.13, -0.25,  1.84,  0.45, -1.45,  0.42, -0.28,  1.02,\n",
       "         1.05,  0.74, -0.93,  2.22, -1.56, -1.4 ,  0.86,  1.31, -1.58,\n",
       "        -1.11,  0.16]])"
      ]
     },
     "execution_count": 11,
     "metadata": {},
     "output_type": "execute_result"
    }
   ],
   "source": [
    "a.T"
   ]
  },
  {
   "cell_type": "code",
   "execution_count": null,
   "metadata": {},
   "outputs": [],
   "source": []
  }
 ],
 "metadata": {
  "kernelspec": {
   "display_name": "Python 3",
   "language": "python",
   "name": "python3"
  },
  "language_info": {
   "codemirror_mode": {
    "name": "ipython",
    "version": 3
   },
   "file_extension": ".py",
   "mimetype": "text/x-python",
   "name": "python",
   "nbconvert_exporter": "python",
   "pygments_lexer": "ipython3",
   "version": "3.7.3"
  }
 },
 "nbformat": 4,
 "nbformat_minor": 2
}
